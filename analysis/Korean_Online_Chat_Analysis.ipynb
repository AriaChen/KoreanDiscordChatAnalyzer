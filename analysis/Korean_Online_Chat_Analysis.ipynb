{
  "nbformat": 4,
  "nbformat_minor": 0,
  "metadata": {
    "colab": {
      "provenance": [],
      "collapsed_sections": [
        "1NETUgleJ0NK"
      ],
      "toc_visible": true
    },
    "kernelspec": {
      "name": "python3",
      "display_name": "Python 3"
    },
    "language_info": {
      "name": "python"
    }
  },
  "cells": [
    {
      "cell_type": "markdown",
      "source": [
        "# Import"
      ],
      "metadata": {
        "id": "cYVzt4atYqeC"
      }
    },
    {
      "cell_type": "code",
      "source": [
        "# install Korean fonts Nanum\n",
        "!sudo apt-get install -y fonts-nanum\n",
        "!sudo fc-cache -fv\n",
        "!rm ~/.cache/matplotlib -rf"
      ],
      "metadata": {
        "id": "fsiVocYw-RUN"
      },
      "execution_count": null,
      "outputs": []
    },
    {
      "cell_type": "code",
      "source": [
        "!pip install transformers"
      ],
      "metadata": {
        "id": "cEgHEp-OBLfO"
      },
      "execution_count": null,
      "outputs": []
    },
    {
      "cell_type": "code",
      "source": [
        "import pandas as pd\n",
        "import matplotlib.pyplot as plt\n",
        "import matplotlib.dates as mdates\n",
        "import matplotlib.font_manager as fm\n",
        "from transformers import pipeline\n",
        "\n",
        "plt.rc('font', family='NanumBarunGothic') # set font to display Korean characters"
      ],
      "metadata": {
        "id": "4-ozJlMVJ2CB"
      },
      "execution_count": null,
      "outputs": []
    },
    {
      "cell_type": "code",
      "source": [
        "from google.colab import drive\n",
        "drive.mount('/content/drive')"
      ],
      "metadata": {
        "id": "ajdK2cGWZI5g"
      },
      "execution_count": null,
      "outputs": []
    },
    {
      "cell_type": "markdown",
      "source": [
        "Read file"
      ],
      "metadata": {
        "id": "zE7RHgPI-0iV"
      }
    },
    {
      "cell_type": "code",
      "source": [
        "df = pd.read_csv('/content/drive/MyDrive/cleaned_chat_data.csv')"
      ],
      "metadata": {
        "id": "_2H9lm28Zc4g"
      },
      "execution_count": null,
      "outputs": []
    },
    {
      "cell_type": "markdown",
      "source": [
        "# Chat Frequency over Time"
      ],
      "metadata": {
        "id": "1NETUgleJ0NK"
      }
    },
    {
      "cell_type": "code",
      "source": [
        "def plot_messages(dataframe, frequency):\n",
        "    # Resample and count messages\n",
        "    resampled_data = dataframe.resample(frequency, on='Timestamp').count()\n",
        "\n",
        "    # Plotting\n",
        "    plt.figure(figsize=(10, 6))\n",
        "    ax = plt.gca()  # Get current axis\n",
        "    resampled_data['Content'].plot(kind='bar', ax=ax)\n",
        "\n",
        "    # Manually setting x-tick labels\n",
        "    if frequency in ['D', 'W', 'M']:\n",
        "        ax.set_xticks(range(len(resampled_data)))\n",
        "        ax.set_xticklabels([date.strftime('%Y-%m-%d') if frequency in ['D', 'W']\n",
        "                            else date.strftime('%Y-%m')\n",
        "                            for date in resampled_data.index])\n",
        "\n",
        "    # Rotate and align the tick labels\n",
        "    plt.setp(ax.get_xticklabels(), rotation=45, ha=\"right\")\n",
        "\n",
        "    plt.title(f'Number of Messages Sent Over Time ({frequency})')\n",
        "    plt.xlabel('Time')\n",
        "    plt.ylabel('Number of Messages')\n",
        "    plt.tight_layout()\n",
        "    plt.show()\n"
      ],
      "metadata": {
        "id": "cGUobDrWJ0kC"
      },
      "execution_count": null,
      "outputs": []
    },
    {
      "cell_type": "code",
      "source": [
        "df['Timestamp'] = pd.to_datetime(df['Timestamp'], format='%Y-%m-%d %H:%M')\n",
        "\n",
        "# plot_messages(df, 'D')  # for daily\n",
        "plot_messages(df, 'W')  # for weekly\n",
        "plot_messages(df, 'M')  # for monthly"
      ],
      "metadata": {
        "id": "VrXakjh_bGKv"
      },
      "execution_count": null,
      "outputs": []
    },
    {
      "cell_type": "markdown",
      "source": [
        "# Most Active Users"
      ],
      "metadata": {
        "id": "Ncsay1Z854R_"
      }
    },
    {
      "cell_type": "code",
      "source": [
        "# Group by 'Author' and count the number of posts\n",
        "author_post_counts = df.groupby('Author').size()\n",
        "\n",
        "# Sort the authors by the number of posts in descending order and select the top 20\n",
        "top_authors = author_post_counts.sort_values(ascending=False).head(20)"
      ],
      "metadata": {
        "id": "_kTPU2fP567X"
      },
      "execution_count": null,
      "outputs": []
    },
    {
      "cell_type": "code",
      "source": [
        "# Plotting\n",
        "plt.figure(figsize=(10, 6))  # Increased figure size\n",
        "top_authors.plot(kind='bar', align='center')\n",
        "\n",
        "plt.title('Number of Posts by Top 20 Authors')\n",
        "plt.xlabel('Author')\n",
        "plt.ylabel('Number of Posts')\n",
        "plt.xticks(rotation=45, ha='center')  # Rotate the labels vertically and align at center\n",
        "\n",
        "plt.tight_layout()  # Adjust layout\n",
        "plt.show()"
      ],
      "metadata": {
        "id": "mWkQBGpB6jXv"
      },
      "execution_count": null,
      "outputs": []
    },
    {
      "cell_type": "markdown",
      "source": [
        "## Top 20 Most Active Users by Each Month"
      ],
      "metadata": {
        "id": "QOVha2aK9i92"
      }
    },
    {
      "cell_type": "code",
      "source": [
        "# Ensure that 'Timestamp' is a DateTime object\n",
        "df['Timestamp'] = pd.to_datetime(df['Timestamp'])\n",
        "\n",
        "# Extract the year and month from 'Timestamp'\n",
        "df['YearMonth'] = df['Timestamp'].dt.to_period('M')\n",
        "\n",
        "# Group by 'YearMonth' and 'Author', and count the number of posts\n",
        "author_post_counts = df.groupby(['YearMonth', 'Author']).size().reset_index(name='PostCount')"
      ],
      "metadata": {
        "id": "dIvlGq_X9fuN"
      },
      "execution_count": null,
      "outputs": []
    },
    {
      "cell_type": "markdown",
      "source": [
        "List all the available months"
      ],
      "metadata": {
        "id": "okui7ftY_90N"
      }
    },
    {
      "cell_type": "code",
      "source": [
        "# Get unique YearMonth values\n",
        "unique_yearmonths = df['YearMonth'].unique()\n",
        "\n",
        "# Print the unique YearMonth values\n",
        "print(unique_yearmonths)"
      ],
      "metadata": {
        "id": "nG_ucVLi_6yN"
      },
      "execution_count": null,
      "outputs": []
    },
    {
      "cell_type": "code",
      "source": [
        "# Function to plot top 20 authors for a given year and month\n",
        "def plot_top_authors_for_month(year_month):\n",
        "\n",
        "    # Check if the input format is correct (e.g., '2023-05')\n",
        "    try:\n",
        "        year_month = pd.Period(year_month, freq='M')\n",
        "    except:\n",
        "        print(f\"Invalid input format. Please use 'YYYY-MM' format.\")\n",
        "        return\n",
        "    # Check if the year_month exists in the dataset\n",
        "    if year_month not in df['YearMonth'].values:\n",
        "        print(f\"The month {year_month} does not exist in the dataset.\")\n",
        "        return\n",
        "\n",
        "    # Filter the data for the given year and month\n",
        "    month_data = author_post_counts[author_post_counts['YearMonth'] == year_month]\n",
        "\n",
        "    # Get the top 20 authors for the month\n",
        "    top_authors = month_data.sort_values(by='PostCount', ascending=False).head(20)\n",
        "\n",
        "    # Plotting\n",
        "    plt.figure(figsize=(10, 6))\n",
        "    top_authors.set_index('Author')['PostCount'].plot(kind='bar')\n",
        "    plt.title(f'Top 20 Authors in {year_month}')\n",
        "    plt.xlabel('Author')\n",
        "    plt.ylabel('Number of Posts')\n",
        "    plt.xticks(rotation=45)\n",
        "    plt.show()"
      ],
      "metadata": {
        "id": "bpsfiQBp8u7O"
      },
      "execution_count": null,
      "outputs": []
    },
    {
      "cell_type": "code",
      "source": [
        "# Example usage\n",
        "plot_top_authors_for_month('2024-01')  # Replace with the desired year-month"
      ],
      "metadata": {
        "id": "l5QVPKoI872u"
      },
      "execution_count": null,
      "outputs": []
    },
    {
      "cell_type": "markdown",
      "source": [
        "# Sentiment Analysis"
      ],
      "metadata": {
        "id": "HVqA4iRRBDCG"
      }
    },
    {
      "cell_type": "markdown",
      "source": [
        "Test Data"
      ],
      "metadata": {
        "id": "HB5eRhEngQTt"
      }
    },
    {
      "cell_type": "code",
      "source": [
        "test_df = pd.read_excel('/content/sentiment_analysis_test.xlsx')\n",
        "test_df.head()"
      ],
      "metadata": {
        "id": "r29G5NgWgnKs"
      },
      "execution_count": null,
      "outputs": []
    },
    {
      "cell_type": "markdown",
      "source": [
        "## bert-base-cased-Korean-sentiment\n",
        "\n",
        "LABEL_0: negative,\n",
        "LABEL_1: positive.  Obtained 70% Accuracy with test dataset."
      ],
      "metadata": {
        "id": "EsUzswpVgASl"
      }
    },
    {
      "cell_type": "code",
      "source": [
        "sentiment_pipeline = pipeline(model=\"WhitePeak/bert-base-cased-Korean-sentiment\")"
      ],
      "metadata": {
        "id": "qjrQQ9R1BR_9"
      },
      "execution_count": null,
      "outputs": []
    },
    {
      "cell_type": "code",
      "source": [
        "# Function to apply the sentiment pipeline and determine the label\n",
        "def get_sentiment_label(text):\n",
        "    result = sentiment_pipeline(text)[0]\n",
        "    label = result['label'][-1]\n",
        "    score = result['score']\n",
        "\n",
        "    # Set label to 2 (neutral) if score is less than 0.6\n",
        "    if score < 0.6:\n",
        "        label = '2'\n",
        "    return label, score"
      ],
      "metadata": {
        "id": "3TOV1T9vz1uV"
      },
      "execution_count": null,
      "outputs": []
    },
    {
      "cell_type": "code",
      "source": [
        "# Apply the sentiment_pipeline to each row in the 'text' column\n",
        "test_df[['predicted_label', 'sentiment_score']] = test_df['Text'].apply(\n",
        "    lambda x: pd.Series(get_sentiment_label(x))\n",
        ")"
      ],
      "metadata": {
        "id": "CA3rq7uhxpbW"
      },
      "execution_count": null,
      "outputs": []
    },
    {
      "cell_type": "code",
      "source": [
        "# Convert 'predicted_label' from object to int\n",
        "test_df['predicted_label'] = test_df['predicted_label'].astype(int)\n",
        "# Compare the predicted labels with the actual labels\n",
        "test_df['is_correct'] = test_df['predicted_label'] == test_df['Label']\n",
        "\n",
        "# Calculate the accuracy\n",
        "accuracy = test_df['is_correct'].mean()\n",
        "print(f\"Accuracy: {accuracy}\")"
      ],
      "metadata": {
        "id": "V3ZWOb8y0ViN"
      },
      "execution_count": null,
      "outputs": []
    },
    {
      "cell_type": "markdown",
      "source": [
        "## ChatGPT\n",
        "\n",
        "Simply asked ChatGPT to label the test data with negative (0), positive (1), or neutral (2): Accuracy 100%."
      ],
      "metadata": {
        "id": "36-yn_x21_nb"
      }
    }
  ]
}